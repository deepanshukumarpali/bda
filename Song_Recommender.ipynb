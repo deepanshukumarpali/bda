{
  "cells": [
    {
      "cell_type": "markdown",
      "metadata": {
        "id": "parnZfoC2ohO"
      },
      "source": [
        "## SONG RECOMMENDER SYSTEM"
      ]
    },
    {
      "cell_type": "code",
      "execution_count": 1,
      "metadata": {
        "id": "GxsD2U-C2ohT"
      },
      "outputs": [],
      "source": [
        "%matplotlib inline\n",
        "import pandas \n",
        "from sklearn.model_selection import train_test_split\n",
        "import Recommenders as Recommenders"
      ]
    },
    {
      "cell_type": "markdown",
      "metadata": {
        "id": "cZRTIV1C2ohU"
      },
      "source": [
        "## Loading the music data"
      ]
    },
    {
      "cell_type": "code",
      "execution_count": 2,
      "metadata": {
        "colab": {
          "base_uri": "https://localhost:8080/",
          "height": 451
        },
        "collapsed": true,
        "id": "COKyVHSz2ohU",
        "outputId": "b9a34489-f21b-4070-fc49-54aeced1b749"
      },
      "outputs": [],
      "source": [
        "# Read userid-songid-listen-copunt triplets\n",
        "triplets_file = 'kaggle_visible_evaluation_triplets.txt'\n",
        "song_metadata_file = \"song_data.csv\"\n",
        "\n",
        "# DataFrame for our triplet file\n",
        "song_df1 = pandas.read_table(triplets_file,header = None)\n",
        "song_df1.columns = ['user_id','song_id','listen_count']\n",
        "\n",
        "# Dataframe for meta data file\n",
        "song_df2 = pandas.read_csv(song_metadata_file)\n",
        "\n",
        "#Merge the above two dataframes to get a single input data frame for recommender system\n",
        "song_df = pandas.merge(song_df1,song_df2.drop_duplicates(['song_id']),on=\"song_id\",how='left')"
      ]
    },
    {
      "cell_type": "code",
      "execution_count": 3,
      "metadata": {
        "colab": {
          "base_uri": "https://localhost:8080/",
          "height": 389
        },
        "id": "YeFOG1I92ohV",
        "outputId": "f6cfcfda-0810-4424-cc40-a44a870fe844"
      },
      "outputs": [
        {
          "name": "stdout",
          "output_type": "stream",
          "text": [
            "total numberof training data: 1450933\n"
          ]
        },
        {
          "data": {
            "text/html": [
              "<div>\n",
              "<style scoped>\n",
              "    .dataframe tbody tr th:only-of-type {\n",
              "        vertical-align: middle;\n",
              "    }\n",
              "\n",
              "    .dataframe tbody tr th {\n",
              "        vertical-align: top;\n",
              "    }\n",
              "\n",
              "    .dataframe thead th {\n",
              "        text-align: right;\n",
              "    }\n",
              "</style>\n",
              "<table border=\"1\" class=\"dataframe\">\n",
              "  <thead>\n",
              "    <tr style=\"text-align: right;\">\n",
              "      <th></th>\n",
              "      <th>user_id</th>\n",
              "      <th>song_id</th>\n",
              "      <th>listen_count</th>\n",
              "      <th>title</th>\n",
              "      <th>release</th>\n",
              "      <th>artist_name</th>\n",
              "      <th>year</th>\n",
              "    </tr>\n",
              "  </thead>\n",
              "  <tbody>\n",
              "    <tr>\n",
              "      <th>0</th>\n",
              "      <td>fd50c4007b68a3737fe052d5a4f78ce8aa117f3d</td>\n",
              "      <td>SOBONKR12A58A7A7E0</td>\n",
              "      <td>1</td>\n",
              "      <td>You're The One</td>\n",
              "      <td>If There Was A Way</td>\n",
              "      <td>Dwight Yoakam</td>\n",
              "      <td>1990</td>\n",
              "    </tr>\n",
              "    <tr>\n",
              "      <th>1</th>\n",
              "      <td>fd50c4007b68a3737fe052d5a4f78ce8aa117f3d</td>\n",
              "      <td>SOEGIYH12A6D4FC0E3</td>\n",
              "      <td>1</td>\n",
              "      <td>Horn Concerto No. 4 in E flat K495: II. Romanc...</td>\n",
              "      <td>Mozart - Eine kleine Nachtmusik</td>\n",
              "      <td>Barry Tuckwell/Academy of St Martin-in-the-Fie...</td>\n",
              "      <td>0</td>\n",
              "    </tr>\n",
              "    <tr>\n",
              "      <th>2</th>\n",
              "      <td>fd50c4007b68a3737fe052d5a4f78ce8aa117f3d</td>\n",
              "      <td>SOFLJQZ12A6D4FADA6</td>\n",
              "      <td>1</td>\n",
              "      <td>Tive Sim</td>\n",
              "      <td>Nova Bis-Cartola</td>\n",
              "      <td>Cartola</td>\n",
              "      <td>1974</td>\n",
              "    </tr>\n",
              "    <tr>\n",
              "      <th>3</th>\n",
              "      <td>fd50c4007b68a3737fe052d5a4f78ce8aa117f3d</td>\n",
              "      <td>SOHTKMO12AB01843B0</td>\n",
              "      <td>1</td>\n",
              "      <td>Catch You Baby (Steve Pitron &amp; Max Sanna Radio...</td>\n",
              "      <td>Catch You Baby</td>\n",
              "      <td>Lonnie Gordon</td>\n",
              "      <td>0</td>\n",
              "    </tr>\n",
              "    <tr>\n",
              "      <th>4</th>\n",
              "      <td>fd50c4007b68a3737fe052d5a4f78ce8aa117f3d</td>\n",
              "      <td>SODQZCY12A6D4F9D11</td>\n",
              "      <td>1</td>\n",
              "      <td>El Cuatrero</td>\n",
              "      <td>From Argentina To The World</td>\n",
              "      <td>Miguel Calo</td>\n",
              "      <td>2001</td>\n",
              "    </tr>\n",
              "  </tbody>\n",
              "</table>\n",
              "</div>"
            ],
            "text/plain": [
              "                                    user_id             song_id  listen_count  \\\n",
              "0  fd50c4007b68a3737fe052d5a4f78ce8aa117f3d  SOBONKR12A58A7A7E0             1   \n",
              "1  fd50c4007b68a3737fe052d5a4f78ce8aa117f3d  SOEGIYH12A6D4FC0E3             1   \n",
              "2  fd50c4007b68a3737fe052d5a4f78ce8aa117f3d  SOFLJQZ12A6D4FADA6             1   \n",
              "3  fd50c4007b68a3737fe052d5a4f78ce8aa117f3d  SOHTKMO12AB01843B0             1   \n",
              "4  fd50c4007b68a3737fe052d5a4f78ce8aa117f3d  SODQZCY12A6D4F9D11             1   \n",
              "\n",
              "                                               title  \\\n",
              "0                                     You're The One   \n",
              "1  Horn Concerto No. 4 in E flat K495: II. Romanc...   \n",
              "2                                           Tive Sim   \n",
              "3  Catch You Baby (Steve Pitron & Max Sanna Radio...   \n",
              "4                                        El Cuatrero   \n",
              "\n",
              "                           release  \\\n",
              "0               If There Was A Way   \n",
              "1  Mozart - Eine kleine Nachtmusik   \n",
              "2                 Nova Bis-Cartola   \n",
              "3                   Catch You Baby   \n",
              "4      From Argentina To The World   \n",
              "\n",
              "                                         artist_name  year  \n",
              "0                                      Dwight Yoakam  1990  \n",
              "1  Barry Tuckwell/Academy of St Martin-in-the-Fie...     0  \n",
              "2                                            Cartola  1974  \n",
              "3                                      Lonnie Gordon     0  \n",
              "4                                        Miguel Calo  2001  "
            ]
          },
          "execution_count": 3,
          "metadata": {},
          "output_type": "execute_result"
        }
      ],
      "source": [
        "# To find length of data set\n",
        "print(\"total numberof training data:\",len(song_df))\n",
        "\n",
        "# Create a subset of dataset\n",
        "song_df = song_df.head(10000)\n",
        "song_df.head()\n"
      ]
    },
    {
      "cell_type": "markdown",
      "metadata": {
        "id": "HINI_0fx2ohV"
      },
      "source": [
        "## Merging song title and song artist into one column for analysis"
      ]
    },
    {
      "cell_type": "code",
      "execution_count": 4,
      "metadata": {
        "collapsed": true,
        "id": "o4nCbnvP2ohW"
      },
      "outputs": [],
      "source": [
        "song_df['song'] = song_df['title'].map(str)+\"-\"+song_df['artist_name']"
      ]
    },
    {
      "cell_type": "markdown",
      "metadata": {
        "id": "TRTXNoYK2ohX"
      },
      "source": [
        "## Arranging the songs in the dataset"
      ]
    },
    {
      "cell_type": "code",
      "execution_count": 5,
      "metadata": {
        "colab": {
          "base_uri": "https://localhost:8080/",
          "height": 424
        },
        "id": "UTdFmLKi2ohX",
        "outputId": "74059b83-d23e-4862-a16e-590b21b3e606"
      },
      "outputs": [
        {
          "data": {
            "text/html": [
              "<div>\n",
              "<style scoped>\n",
              "    .dataframe tbody tr th:only-of-type {\n",
              "        vertical-align: middle;\n",
              "    }\n",
              "\n",
              "    .dataframe tbody tr th {\n",
              "        vertical-align: top;\n",
              "    }\n",
              "\n",
              "    .dataframe thead th {\n",
              "        text-align: right;\n",
              "    }\n",
              "</style>\n",
              "<table border=\"1\" class=\"dataframe\">\n",
              "  <thead>\n",
              "    <tr style=\"text-align: right;\">\n",
              "      <th></th>\n",
              "      <th>song</th>\n",
              "      <th>listen_count</th>\n",
              "      <th>percentage</th>\n",
              "    </tr>\n",
              "  </thead>\n",
              "  <tbody>\n",
              "    <tr>\n",
              "      <th>7309</th>\n",
              "      <td>You're The One-Dwight Yoakam</td>\n",
              "      <td>40</td>\n",
              "      <td>0.40</td>\n",
              "    </tr>\n",
              "    <tr>\n",
              "      <th>6711</th>\n",
              "      <td>Undo-Björk</td>\n",
              "      <td>38</td>\n",
              "      <td>0.38</td>\n",
              "    </tr>\n",
              "    <tr>\n",
              "      <th>5241</th>\n",
              "      <td>Sehr kosmisch-Harmonia</td>\n",
              "      <td>36</td>\n",
              "      <td>0.36</td>\n",
              "    </tr>\n",
              "    <tr>\n",
              "      <th>4959</th>\n",
              "      <td>Revelry-Kings Of Leon</td>\n",
              "      <td>32</td>\n",
              "      <td>0.32</td>\n",
              "    </tr>\n",
              "    <tr>\n",
              "      <th>1512</th>\n",
              "      <td>Dog Days Are Over (Radio Edit)-Florence + The ...</td>\n",
              "      <td>29</td>\n",
              "      <td>0.29</td>\n",
              "    </tr>\n",
              "    <tr>\n",
              "      <th>...</th>\n",
              "      <td>...</td>\n",
              "      <td>...</td>\n",
              "      <td>...</td>\n",
              "    </tr>\n",
              "    <tr>\n",
              "      <th>7377</th>\n",
              "      <td>Árboles de la barranca-Carlos Y Jose</td>\n",
              "      <td>1</td>\n",
              "      <td>0.01</td>\n",
              "    </tr>\n",
              "    <tr>\n",
              "      <th>7378</th>\n",
              "      <td>Ännu En Dag-Drifters</td>\n",
              "      <td>1</td>\n",
              "      <td>0.01</td>\n",
              "    </tr>\n",
              "    <tr>\n",
              "      <th>7379</th>\n",
              "      <td>Ça Marche-Christophe Maé</td>\n",
              "      <td>1</td>\n",
              "      <td>0.01</td>\n",
              "    </tr>\n",
              "    <tr>\n",
              "      <th>7380</th>\n",
              "      <td>Örökké Tart-Tankcsapda</td>\n",
              "      <td>1</td>\n",
              "      <td>0.01</td>\n",
              "    </tr>\n",
              "    <tr>\n",
              "      <th>7381</th>\n",
              "      <td>ça Me Fait Du Bien-Emmanuel Moire</td>\n",
              "      <td>1</td>\n",
              "      <td>0.01</td>\n",
              "    </tr>\n",
              "  </tbody>\n",
              "</table>\n",
              "<p>7382 rows × 3 columns</p>\n",
              "</div>"
            ],
            "text/plain": [
              "                                                   song  listen_count  \\\n",
              "7309                       You're The One-Dwight Yoakam            40   \n",
              "6711                                         Undo-Björk            38   \n",
              "5241                             Sehr kosmisch-Harmonia            36   \n",
              "4959                              Revelry-Kings Of Leon            32   \n",
              "1512  Dog Days Are Over (Radio Edit)-Florence + The ...            29   \n",
              "...                                                 ...           ...   \n",
              "7377               Árboles de la barranca-Carlos Y Jose             1   \n",
              "7378                               Ännu En Dag-Drifters             1   \n",
              "7379                           Ça Marche-Christophe Maé             1   \n",
              "7380                             Örökké Tart-Tankcsapda             1   \n",
              "7381                  ça Me Fait Du Bien-Emmanuel Moire             1   \n",
              "\n",
              "      percentage  \n",
              "7309        0.40  \n",
              "6711        0.38  \n",
              "5241        0.36  \n",
              "4959        0.32  \n",
              "1512        0.29  \n",
              "...          ...  \n",
              "7377        0.01  \n",
              "7378        0.01  \n",
              "7379        0.01  \n",
              "7380        0.01  \n",
              "7381        0.01  \n",
              "\n",
              "[7382 rows x 3 columns]"
            ]
          },
          "execution_count": 5,
          "metadata": {},
          "output_type": "execute_result"
        }
      ],
      "source": [
        "song_grouped = song_df.groupby(['song']).agg({'listen_count':'count'}).reset_index()\n",
        "grouped_sum = song_grouped['listen_count'].sum()\n",
        "song_grouped['percentage'] =(song_grouped['listen_count']/(grouped_sum))*100\n",
        "song_grouped.sort_values(['listen_count','song'],ascending = [0,1])"
      ]
    },
    {
      "cell_type": "code",
      "execution_count": 6,
      "metadata": {
        "colab": {
          "base_uri": "https://localhost:8080/"
        },
        "id": "aapztJ0s2ohY",
        "outputId": "c260fee4-408f-4f86-afa0-5c5a5266537d"
      },
      "outputs": [
        {
          "data": {
            "text/plain": [
              "753"
            ]
          },
          "execution_count": 6,
          "metadata": {},
          "output_type": "execute_result"
        }
      ],
      "source": [
        "# TO count the number of unique users\n",
        "users = song_df['user_id'].unique()\n",
        "len(users)"
      ]
    },
    {
      "cell_type": "code",
      "execution_count": 7,
      "metadata": {
        "colab": {
          "base_uri": "https://localhost:8080/"
        },
        "id": "_s42gwAG2ohY",
        "outputId": "2c2d8a4f-0907-479c-cb74-463598b7a200"
      },
      "outputs": [
        {
          "data": {
            "text/plain": [
              "7382"
            ]
          },
          "execution_count": 7,
          "metadata": {},
          "output_type": "execute_result"
        }
      ],
      "source": [
        "# To count the number of unique songs:\n",
        "songs = song_df['song'].unique()\n",
        "len(songs)\n"
      ]
    },
    {
      "cell_type": "markdown",
      "metadata": {
        "id": "Y_sTBqvv2ohZ"
      },
      "source": [
        "## Split the whole data into training and testing data "
      ]
    },
    {
      "cell_type": "code",
      "execution_count": 8,
      "metadata": {
        "colab": {
          "base_uri": "https://localhost:8080/"
        },
        "id": "8abswGW02ohZ",
        "outputId": "246e9699-4165-41f6-ecef-cf856e532693"
      },
      "outputs": [
        {
          "name": "stdout",
          "output_type": "stream",
          "text": [
            "                                       user_id             song_id  \\\n",
            "7389  d3c75a5a579f29a3a853b3a4ba76d3a2e5243655  SOQTHZW12A8C1400F8   \n",
            "9275  3071be7411e636fcda6c99277a5b51c45a7c4866  SODQPTQ12AF72A64BC   \n",
            "2995  1fa6a4add6eacc3ce1aec44fc37037db2b09bf82  SOUCBEB12A6310E1F9   \n",
            "5316  c8db3788ca8f60d92abf827ad59f424f05897cfc  SOBWFXM12AB0182808   \n",
            "356   6530c4fc41b9110de5d39fe0355fa103c66385f0  SOSIZFO12A58A79934   \n",
            "\n",
            "      listen_count                                 title  \\\n",
            "7389             2  Aghia Sophia (2008 Digital Remaster)   \n",
            "9275             6                              Scorpion   \n",
            "2995             3                           Jesus Walks   \n",
            "5316            14                            Orange Sky   \n",
            "356              2                          In Da Gutter   \n",
            "\n",
            "                                                release  \\\n",
            "7389  Epica Etica Etnica Pathos (2008 Remastered Edi...   \n",
            "9275                                  The Budos Band II   \n",
            "2995                                        Jesus Walks   \n",
            "5316      Away We Go Original Motion Picture Soundtrack   \n",
            "356                             Am I My Brothers Keeper   \n",
            "\n",
            "                   artist_name  year  \\\n",
            "7389  CCCP - Fedeli Alla Linea     0   \n",
            "9275            The Budos Band  2007   \n",
            "2995                Kanye West  2003   \n",
            "5316             Alexi Murdoch  2002   \n",
            "356                    Vicious     0   \n",
            "\n",
            "                                                   song  \n",
            "7389  Aghia Sophia (2008 Digital Remaster)-CCCP - Fe...  \n",
            "9275                            Scorpion-The Budos Band  \n",
            "2995                             Jesus Walks-Kanye West  \n",
            "5316                           Orange Sky-Alexi Murdoch  \n",
            "356                                In Da Gutter-Vicious  \n"
          ]
        }
      ],
      "source": [
        "train_data , test_data = train_test_split(song_df,test_size = 0.20, random_state = 0)\n",
        "print(train_data.head(5))"
      ]
    },
    {
      "cell_type": "markdown",
      "metadata": {
        "id": "Jyx5V65C2oha"
      },
      "source": [
        "## Popularity filter based recommender"
      ]
    },
    {
      "cell_type": "code",
      "execution_count": 9,
      "metadata": {
        "collapsed": true,
        "id": "ZFI3ySPq2ohZ",
        "scrolled": true
      },
      "outputs": [],
      "source": [
        "# Simple popularity based recommender...Not exclusive for a particular user\n",
        "pm = Recommenders.popularity_recommender()\n",
        "pm.create(train_data)"
      ]
    },
    {
      "cell_type": "code",
      "execution_count": 15,
      "metadata": {
        "colab": {
          "base_uri": "https://localhost:8080/",
          "height": 363
        },
        "id": "1HqaFQ162oha",
        "outputId": "76f4eacf-c0ba-4d9e-fe2d-a9bb927d8ecd"
      },
      "outputs": [
        {
          "name": "stdout",
          "output_type": "stream",
          "text": [
            "Recommendations for User id  e9dc6b4c2b22aa6dc8260e1963021567728055b2  : \n"
          ]
        },
        {
          "data": {
            "text/html": [
              "<div>\n",
              "<style scoped>\n",
              "    .dataframe tbody tr th:only-of-type {\n",
              "        vertical-align: middle;\n",
              "    }\n",
              "\n",
              "    .dataframe tbody tr th {\n",
              "        vertical-align: top;\n",
              "    }\n",
              "\n",
              "    .dataframe thead th {\n",
              "        text-align: right;\n",
              "    }\n",
              "</style>\n",
              "<table border=\"1\" class=\"dataframe\">\n",
              "  <thead>\n",
              "    <tr style=\"text-align: right;\">\n",
              "      <th></th>\n",
              "      <th>user_id</th>\n",
              "      <th>song</th>\n",
              "      <th>score</th>\n",
              "      <th>Rank</th>\n",
              "    </tr>\n",
              "  </thead>\n",
              "  <tbody>\n",
              "    <tr>\n",
              "      <th>6049</th>\n",
              "      <td>e9dc6b4c2b22aa6dc8260e1963021567728055b2</td>\n",
              "      <td>You're The One-Dwight Yoakam</td>\n",
              "      <td>34</td>\n",
              "      <td>1.0</td>\n",
              "    </tr>\n",
              "    <tr>\n",
              "      <th>5552</th>\n",
              "      <td>e9dc6b4c2b22aa6dc8260e1963021567728055b2</td>\n",
              "      <td>Undo-Björk</td>\n",
              "      <td>31</td>\n",
              "      <td>2.0</td>\n",
              "    </tr>\n",
              "    <tr>\n",
              "      <th>4343</th>\n",
              "      <td>e9dc6b4c2b22aa6dc8260e1963021567728055b2</td>\n",
              "      <td>Sehr kosmisch-Harmonia</td>\n",
              "      <td>30</td>\n",
              "      <td>3.0</td>\n",
              "    </tr>\n",
              "    <tr>\n",
              "      <th>1259</th>\n",
              "      <td>e9dc6b4c2b22aa6dc8260e1963021567728055b2</td>\n",
              "      <td>Dog Days Are Over (Radio Edit)-Florence + The ...</td>\n",
              "      <td>24</td>\n",
              "      <td>4.0</td>\n",
              "    </tr>\n",
              "    <tr>\n",
              "      <th>4118</th>\n",
              "      <td>e9dc6b4c2b22aa6dc8260e1963021567728055b2</td>\n",
              "      <td>Revelry-Kings Of Leon</td>\n",
              "      <td>23</td>\n",
              "      <td>5.0</td>\n",
              "    </tr>\n",
              "    <tr>\n",
              "      <th>1662</th>\n",
              "      <td>e9dc6b4c2b22aa6dc8260e1963021567728055b2</td>\n",
              "      <td>Fireflies-Charttraxx Karaoke</td>\n",
              "      <td>19</td>\n",
              "      <td>6.0</td>\n",
              "    </tr>\n",
              "    <tr>\n",
              "      <th>1359</th>\n",
              "      <td>e9dc6b4c2b22aa6dc8260e1963021567728055b2</td>\n",
              "      <td>Drop The World-Lil Wayne / Eminem</td>\n",
              "      <td>18</td>\n",
              "      <td>7.0</td>\n",
              "    </tr>\n",
              "    <tr>\n",
              "      <th>2206</th>\n",
              "      <td>e9dc6b4c2b22aa6dc8260e1963021567728055b2</td>\n",
              "      <td>Horn Concerto No. 4 in E flat K495: II. Romanc...</td>\n",
              "      <td>17</td>\n",
              "      <td>8.0</td>\n",
              "    </tr>\n",
              "    <tr>\n",
              "      <th>4108</th>\n",
              "      <td>e9dc6b4c2b22aa6dc8260e1963021567728055b2</td>\n",
              "      <td>Représente-Alliance Ethnik</td>\n",
              "      <td>17</td>\n",
              "      <td>9.0</td>\n",
              "    </tr>\n",
              "    <tr>\n",
              "      <th>4335</th>\n",
              "      <td>e9dc6b4c2b22aa6dc8260e1963021567728055b2</td>\n",
              "      <td>Secrets-OneRepublic</td>\n",
              "      <td>16</td>\n",
              "      <td>10.0</td>\n",
              "    </tr>\n",
              "  </tbody>\n",
              "</table>\n",
              "</div>"
            ],
            "text/plain": [
              "                                       user_id  \\\n",
              "6049  e9dc6b4c2b22aa6dc8260e1963021567728055b2   \n",
              "5552  e9dc6b4c2b22aa6dc8260e1963021567728055b2   \n",
              "4343  e9dc6b4c2b22aa6dc8260e1963021567728055b2   \n",
              "1259  e9dc6b4c2b22aa6dc8260e1963021567728055b2   \n",
              "4118  e9dc6b4c2b22aa6dc8260e1963021567728055b2   \n",
              "1662  e9dc6b4c2b22aa6dc8260e1963021567728055b2   \n",
              "1359  e9dc6b4c2b22aa6dc8260e1963021567728055b2   \n",
              "2206  e9dc6b4c2b22aa6dc8260e1963021567728055b2   \n",
              "4108  e9dc6b4c2b22aa6dc8260e1963021567728055b2   \n",
              "4335  e9dc6b4c2b22aa6dc8260e1963021567728055b2   \n",
              "\n",
              "                                                   song  score  Rank  \n",
              "6049                       You're The One-Dwight Yoakam     34   1.0  \n",
              "5552                                         Undo-Björk     31   2.0  \n",
              "4343                             Sehr kosmisch-Harmonia     30   3.0  \n",
              "1259  Dog Days Are Over (Radio Edit)-Florence + The ...     24   4.0  \n",
              "4118                              Revelry-Kings Of Leon     23   5.0  \n",
              "1662                       Fireflies-Charttraxx Karaoke     19   6.0  \n",
              "1359                  Drop The World-Lil Wayne / Eminem     18   7.0  \n",
              "2206  Horn Concerto No. 4 in E flat K495: II. Romanc...     17   8.0  \n",
              "4108                         Représente-Alliance Ethnik     17   9.0  \n",
              "4335                                Secrets-OneRepublic     16  10.0  "
            ]
          },
          "execution_count": 15,
          "metadata": {},
          "output_type": "execute_result"
        }
      ],
      "source": [
        "# Using recommender to make some recommendation\n",
        "user_id = users[7]\n",
        "\n",
        "print(\"Recommendations for User id \",user_id,\" : \")\n",
        "pm.recommend(user_id)"
      ]
    },
    {
      "cell_type": "markdown",
      "metadata": {
        "id": "Jyx5V65C2oha"
      },
      "source": [
        "## Similarity filter based recommender"
      ]
    },
    {
      "cell_type": "code",
      "execution_count": 17,
      "metadata": {
        "collapsed": true,
        "id": "evUDpCeH2oha"
      },
      "outputs": [],
      "source": [
        "is_model = Recommenders.item_similarity_recommender()\n",
        "is_model.create(train_data)\n"
      ]
    },
    {
      "cell_type": "code",
      "execution_count": 18,
      "metadata": {
        "colab": {
          "base_uri": "https://localhost:8080/",
          "height": 470
        },
        "id": "wnlNIZFs2ohb",
        "outputId": "2e12e366-9a17-4e96-d9a4-1a8ea900a68e",
        "scrolled": false
      },
      "outputs": [
        {
          "name": "stdout",
          "output_type": "stream",
          "text": [
            "Recommendations for User id  91b8fac7dc5e03f6cfaf6e2aa7171f14a8354d62  : \n",
            "No. of unique songs for the user: 10\n",
            "no. of unique songs in the training set: 6107\n",
            "Non zero values in cooccurence_matrix :206\n"
          ]
        },
        {
          "data": {
            "text/html": [
              "<div>\n",
              "<style scoped>\n",
              "    .dataframe tbody tr th:only-of-type {\n",
              "        vertical-align: middle;\n",
              "    }\n",
              "\n",
              "    .dataframe tbody tr th {\n",
              "        vertical-align: top;\n",
              "    }\n",
              "\n",
              "    .dataframe thead th {\n",
              "        text-align: right;\n",
              "    }\n",
              "</style>\n",
              "<table border=\"1\" class=\"dataframe\">\n",
              "  <thead>\n",
              "    <tr style=\"text-align: right;\">\n",
              "      <th></th>\n",
              "      <th>user_id</th>\n",
              "      <th>song</th>\n",
              "      <th>score</th>\n",
              "      <th>rank</th>\n",
              "    </tr>\n",
              "  </thead>\n",
              "  <tbody>\n",
              "    <tr>\n",
              "      <th>0</th>\n",
              "      <td>91b8fac7dc5e03f6cfaf6e2aa7171f14a8354d62</td>\n",
              "      <td>Shakedown-Au Pairs</td>\n",
              "      <td>0.033333</td>\n",
              "      <td>1</td>\n",
              "    </tr>\n",
              "    <tr>\n",
              "      <th>1</th>\n",
              "      <td>91b8fac7dc5e03f6cfaf6e2aa7171f14a8354d62</td>\n",
              "      <td>S-Bahn-Surfen (2007 Digital Remaster)-Spider M...</td>\n",
              "      <td>0.033333</td>\n",
              "      <td>2</td>\n",
              "    </tr>\n",
              "    <tr>\n",
              "      <th>2</th>\n",
              "      <td>91b8fac7dc5e03f6cfaf6e2aa7171f14a8354d62</td>\n",
              "      <td>Attack Of The Killerbirds-Emilie Simon</td>\n",
              "      <td>0.033333</td>\n",
              "      <td>3</td>\n",
              "    </tr>\n",
              "    <tr>\n",
              "      <th>3</th>\n",
              "      <td>91b8fac7dc5e03f6cfaf6e2aa7171f14a8354d62</td>\n",
              "      <td>Hate (I Really Don't Like You)-Plain White T's</td>\n",
              "      <td>0.033333</td>\n",
              "      <td>4</td>\n",
              "    </tr>\n",
              "    <tr>\n",
              "      <th>4</th>\n",
              "      <td>91b8fac7dc5e03f6cfaf6e2aa7171f14a8354d62</td>\n",
              "      <td>Ike's Mood-Isaac Hayes</td>\n",
              "      <td>0.033333</td>\n",
              "      <td>5</td>\n",
              "    </tr>\n",
              "    <tr>\n",
              "      <th>5</th>\n",
              "      <td>91b8fac7dc5e03f6cfaf6e2aa7171f14a8354d62</td>\n",
              "      <td>Dancing In The Moonlight (It's Caught Me In It...</td>\n",
              "      <td>0.033333</td>\n",
              "      <td>6</td>\n",
              "    </tr>\n",
              "    <tr>\n",
              "      <th>6</th>\n",
              "      <td>91b8fac7dc5e03f6cfaf6e2aa7171f14a8354d62</td>\n",
              "      <td>Rock Climbing [Byte 1] (2005)-Damu The Fudgemunk</td>\n",
              "      <td>0.033333</td>\n",
              "      <td>7</td>\n",
              "    </tr>\n",
              "    <tr>\n",
              "      <th>7</th>\n",
              "      <td>91b8fac7dc5e03f6cfaf6e2aa7171f14a8354d62</td>\n",
              "      <td>Frantic-The Lovely Feathers</td>\n",
              "      <td>0.033333</td>\n",
              "      <td>8</td>\n",
              "    </tr>\n",
              "    <tr>\n",
              "      <th>8</th>\n",
              "      <td>91b8fac7dc5e03f6cfaf6e2aa7171f14a8354d62</td>\n",
              "      <td>La Femme Parallel-Thievery Corporation</td>\n",
              "      <td>0.033333</td>\n",
              "      <td>9</td>\n",
              "    </tr>\n",
              "    <tr>\n",
              "      <th>9</th>\n",
              "      <td>91b8fac7dc5e03f6cfaf6e2aa7171f14a8354d62</td>\n",
              "      <td>It Had To Be You (Cd)-Motion City Soundtrack</td>\n",
              "      <td>0.033333</td>\n",
              "      <td>10</td>\n",
              "    </tr>\n",
              "  </tbody>\n",
              "</table>\n",
              "</div>"
            ],
            "text/plain": [
              "                                    user_id  \\\n",
              "0  91b8fac7dc5e03f6cfaf6e2aa7171f14a8354d62   \n",
              "1  91b8fac7dc5e03f6cfaf6e2aa7171f14a8354d62   \n",
              "2  91b8fac7dc5e03f6cfaf6e2aa7171f14a8354d62   \n",
              "3  91b8fac7dc5e03f6cfaf6e2aa7171f14a8354d62   \n",
              "4  91b8fac7dc5e03f6cfaf6e2aa7171f14a8354d62   \n",
              "5  91b8fac7dc5e03f6cfaf6e2aa7171f14a8354d62   \n",
              "6  91b8fac7dc5e03f6cfaf6e2aa7171f14a8354d62   \n",
              "7  91b8fac7dc5e03f6cfaf6e2aa7171f14a8354d62   \n",
              "8  91b8fac7dc5e03f6cfaf6e2aa7171f14a8354d62   \n",
              "9  91b8fac7dc5e03f6cfaf6e2aa7171f14a8354d62   \n",
              "\n",
              "                                                song     score rank  \n",
              "0                                 Shakedown-Au Pairs  0.033333    1  \n",
              "1  S-Bahn-Surfen (2007 Digital Remaster)-Spider M...  0.033333    2  \n",
              "2             Attack Of The Killerbirds-Emilie Simon  0.033333    3  \n",
              "3     Hate (I Really Don't Like You)-Plain White T's  0.033333    4  \n",
              "4                             Ike's Mood-Isaac Hayes  0.033333    5  \n",
              "5  Dancing In The Moonlight (It's Caught Me In It...  0.033333    6  \n",
              "6   Rock Climbing [Byte 1] (2005)-Damu The Fudgemunk  0.033333    7  \n",
              "7                        Frantic-The Lovely Feathers  0.033333    8  \n",
              "8             La Femme Parallel-Thievery Corporation  0.033333    9  \n",
              "9       It Had To Be You (Cd)-Motion City Soundtrack  0.033333   10  "
            ]
          },
          "execution_count": 18,
          "metadata": {},
          "output_type": "execute_result"
        }
      ],
      "source": [
        "user_id = users[5]\n",
        "\n",
        "print(\"Recommendations for User id \",user_id,\" : \")\n",
        "is_model.recommend(user_id)"
      ]
    }
  ],
  "metadata": {
    "colab": {
      "name": "Song_Recommender.ipynb",
      "provenance": []
    },
    "kernelspec": {
      "display_name": "Python 3",
      "language": "python",
      "name": "python3"
    },
    "language_info": {
      "codemirror_mode": {
        "name": "ipython",
        "version": 3
      },
      "file_extension": ".py",
      "mimetype": "text/x-python",
      "name": "python",
      "nbconvert_exporter": "python",
      "pygments_lexer": "ipython3",
      "version": "3.9.6"
    }
  },
  "nbformat": 4,
  "nbformat_minor": 0
}
